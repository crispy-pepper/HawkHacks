{
 "cells": [
  {
   "cell_type": "code",
   "execution_count": 1,
   "metadata": {},
   "outputs": [
    {
     "name": "stdout",
     "output_type": "stream",
     "text": [
      "WARNING:tensorflow:From c:\\Users\\Oat_M\\AppData\\Local\\Programs\\Python\\Python311\\Lib\\site-packages\\keras\\src\\losses.py:2976: The name tf.losses.sparse_softmax_cross_entropy is deprecated. Please use tf.compat.v1.losses.sparse_softmax_cross_entropy instead.\n",
      "\n"
     ]
    }
   ],
   "source": [
    "import cv2\n",
    "import mediapipe as mp\n",
    "import urllib.request\n",
    "import numpy as np\n",
    "import pickle\n",
    "import matplotlib as mpl\n",
    "import matplotlib.pyplot as plt\n",
    "from matplotlib import animation\n",
    "import PyQt5\n",
    "from PIL import Image\n",
    "from IPython.display import Video\n",
    "import nb_helpers\n",
    "import time\n",
    "import random as rand\n",
    "import os"
   ]
  },
  {
   "cell_type": "code",
   "execution_count": 27,
   "metadata": {},
   "outputs": [],
   "source": [
    "mp_drawing = mp.solutions.drawing_utils\n",
    "mp_drawing_styles = mp.solutions.drawing_styles\n",
    "mp_holistic = mp.solutions.holistic\n",
    "mp_pose = mp.solutions.pose\n",
    "#mp_face_mesh = mp.solutions.face_mesh"
   ]
  },
  {
   "cell_type": "code",
   "execution_count": 28,
   "metadata": {},
   "outputs": [],
   "source": [
    "mpPose = mp.solutions.pose\n",
    "pose = mpPose.Pose()\n",
    "mpDraw = mp.solutions.drawing_utils"
   ]
  },
  {
   "cell_type": "code",
   "execution_count": 29,
   "metadata": {},
   "outputs": [
    {
     "name": "stdout",
     "output_type": "stream",
     "text": [
      "Width = 1280\n",
      "Height = 720\n"
     ]
    }
   ],
   "source": [
    "from win32api import GetSystemMetrics\n",
    "w =  GetSystemMetrics(0)\n",
    "h = GetSystemMetrics(1)\n",
    "print(\"Width =\", GetSystemMetrics(0))\n",
    "print(\"Height =\", GetSystemMetrics(1))"
   ]
  },
  {
   "cell_type": "code",
   "execution_count": 30,
   "metadata": {},
   "outputs": [],
   "source": [
    "def inImage(image,points):\n",
    "    for point in points:\n",
    "        x,y = point\n",
    "        im = Image.open(image) # Can be many different formats.\n",
    "        pix = im.load()\n",
    "        colour = pix[x,y]\n",
    "        #print(colour)\n",
    "        if colour != (0,0,0):\n",
    "            return False\n",
    "    \n",
    "    return True\n",
    "\n",
    "#print(inImage(\"pgreen.jpg\",[(150,150),(0,0)]))"
   ]
  },
  {
   "cell_type": "code",
   "execution_count": 31,
   "metadata": {},
   "outputs": [
    {
     "name": "stdout",
     "output_type": "stream",
     "text": [
      "['pose2.jpg', 'pose3.jpg', 'pose4.jpg', 'pose5.jpg']\n"
     ]
    }
   ],
   "source": [
    "path = \"C:\\Computer\\Programming\\opencv\\c\\poses\"\n",
    "pos = os.listdir(path)\n",
    "poses = []\n",
    "for p in pos:\n",
    "    if p.endswith(\"jpg\"):\n",
    "        poses.append(p)\n",
    "print(poses)"
   ]
  },
  {
   "cell_type": "code",
   "execution_count": 32,
   "metadata": {},
   "outputs": [],
   "source": [
    "def drawline(layer,a,b,colour,width):\n",
    "    cv2.line(layer, (int(a.x*w), int(a.y*h)), (int(b.x*w), int(b.y*h)), colour, width)"
   ]
  },
  {
   "cell_type": "code",
   "execution_count": 33,
   "metadata": {},
   "outputs": [],
   "source": [
    "def centercoor(text,scale,thicknes):\n",
    "    fontFace = cv2.FONT_HERSHEY_SIMPLEX\n",
    "    fontScale = scale\n",
    "    thickness = thicknes\n",
    "    text_width, text_height = cv2.getTextSize(text, fontFace, fontScale, thickness)[0]\n",
    "    return (int(w / 2) - int(text_width / 2), int(h / 2) + int(text_height / 2))"
   ]
  },
  {
   "cell_type": "code",
   "execution_count": 38,
   "metadata": {},
   "outputs": [],
   "source": [
    "cap = cv2.VideoCapture(0)\n",
    "\n",
    "currimage = os.path.join(path,rand.choice(poses))\n",
    "start = True\n",
    "\n",
    "while True:\n",
    "    #print(\"Running\")\n",
    "\n",
    "    landDetected = True\n",
    "\n",
    "    inArea = True\n",
    "\n",
    "    curTime = time.time()\n",
    "\n",
    "    success, img = cap.read()\n",
    "\n",
    "    img = cv2.resize(img, (w,h))\n",
    "    img = cv2.flip(img, 1)\n",
    "\n",
    "    #imgPlayer = np.zeros((512,512,3), np.uint8)\n",
    "    #imgPlayer = cv2.resize(imgPlayer, (w,h))\n",
    "    imgPlayer = img\n",
    "\n",
    "    imgRGB = cv2.cvtColor(img, cv2.COLOR_BGR2RGB)\n",
    "    results = pose.process(imgRGB)\n",
    "    image = cv2.imread(currimage)\n",
    "\n",
    "    try: \n",
    "        lm = results.pose_landmarks.landmark[11:17] + results.pose_landmarks.landmark[19:21]\n",
    "    except: \n",
    "        landDetected = False\n",
    "\n",
    "    if landDetected: \n",
    "        error = int(w / 13)\n",
    "        #print(\"landDetected\")\n",
    "        \n",
    "\n",
    "\n",
    "        lm = results.pose_landmarks.landmark\n",
    "\n",
    "        lShould = lm[12]\n",
    "        lElb = lm[14]\n",
    "        lWrist = lm[16]\n",
    "        lInd = lm[20]\n",
    "        lWaist = lm[24]\n",
    "\n",
    "        rShould = lm[11]\n",
    "        rElb = lm[13]\n",
    "        rWrist = lm[15]\n",
    "        rInd = lm[19]\n",
    "        rWaist = lm[23]\n",
    "\n",
    "        head = lm[0]\n",
    "\n",
    "        \n",
    "\n",
    "        limbs = [lShould,lElb,lWrist,lInd,rShould,rElb,rWrist,rInd,rWaist,lWaist,head]\n",
    "        points = [(l.x,l.y) for l in limbs]\n",
    "        \n",
    "        # Create the condition to check if each pixel in the original image is black\n",
    "        overlay = cv2.resize(cv2.imread(currimage),(w,h))\n",
    "        overlay = cv2.flip(overlay,1)\n",
    "\n",
    "        imgPlayer = cv2.addWeighted(imgPlayer,0.4,overlay,0.1,0)\n",
    "\n",
    "        blue = (255,0,0)\n",
    "        linewidth = 5\n",
    "        #cv2.line(imgPlayer, (int(lShould.x*w), int(lShould.y*h)), (int(lElb.x*w), int(lElb.y*h)), (255,0,0), 5)\n",
    "        drawline(imgPlayer,lShould,lElb,blue,linewidth)\n",
    "        #cv2.line(imgPlayer, (int(lElb.x*w), int(lElb.y*h)), (int(lWrist.x*w), int(lWrist.y*h)), (255,0,0), 5)\n",
    "        drawline(imgPlayer,lWrist,lElb,blue,linewidth)\n",
    "        #cv2.line(imgPlayer, (int(lWrist.x*w), int(lWrist.y*h)), (int(lInd.x*w), int(lInd.y*h)), (255,0,0), 5)\n",
    "        drawline(imgPlayer,lWrist,lInd,blue,linewidth)\n",
    "\n",
    "        #cv2.line(imgPlayer, (int(rShould.x*w), int(rShould.y*h)), (int(rElb.x*w), int(rElb.y*h)), (255,0,0), 5)\n",
    "        drawline(imgPlayer,rShould,rElb,blue,linewidth)\n",
    "        #cv2.line(imgPlayer, (int(rElb.x*w), int(rElb.y*h)), (int(rWrist.x*w), int(rWrist.y*h)), (255,0,0), 5)\n",
    "        drawline(imgPlayer,rWrist,rElb,blue,linewidth)\n",
    "        #cv2.line(imgPlayer, (int(rWrist.x*w), int(rWrist.y*h)), (int(rInd.x*w), int(rInd.y*h)), (255,0,0), 5)\n",
    "        drawline(imgPlayer,rWrist,rInd,blue,linewidth)\n",
    "\n",
    "        #cv2.line(imgPlayer, (int(lWaist.x*w), int(lWaist.y*h)), (int(rWaist.x*w), int(rWaist.y*h)), (255,0,0), 5)\n",
    "        drawline(imgPlayer,rWaist,lWaist,blue,linewidth)\n",
    "        drawline(imgPlayer,rShould,lShould,blue,linewidth)\n",
    "        drawline(imgPlayer,rShould,rWaist,blue,linewidth)\n",
    "        drawline(imgPlayer,lShould,lWaist,blue,linewidth)\n",
    "\n",
    "        #drawline(imgPlayer,head,lShould,blue,linewidth)\n",
    "        #drawline(imgPlayer,head,rShould,blue,linewidth)\n",
    "\n",
    "        if start:\n",
    "            currimage = os.path.join(path,\"default\\\\start.jpg\")\n",
    "            cv2.putText(imgPlayer, \"Line up to start\", (centercoor(\"Line up to start\",3,3)[0],75), cv2.FONT_HERSHEY_SIMPLEX,3,(255,255,255), 3)\n",
    "\n",
    "        isin = True\n",
    "        for point in points:\n",
    "            x,y = point\n",
    "            if x <= 0 or x >= 1 or y <= 0 or y >=1:\n",
    "                continue\n",
    "            x = int(x*w)\n",
    "            y = int(y*h)\n",
    "            im = cv2.imread(currimage) # Can be many different formats.\n",
    "            im = cv2.flip(im, 1)\n",
    "\n",
    "            if (im[y,x] == [0]).all():\n",
    "                cv2.circle(imgPlayer, (x, y), 5, (0,255,0), cv2.FILLED)\n",
    "            else:\n",
    "                cv2.circle(imgPlayer, (x, y), 5, (0,0,255), cv2.FILLED)\n",
    "                isin = False\n",
    "\n",
    "        if isin:\n",
    "            if start:\n",
    "                start = False\n",
    "            currimage = os.path.join(path,rand.choice(poses))\n",
    "            \n",
    "\n",
    "        #shows user their fps\n",
    "        \n",
    "\n",
    "    cv2.imshow(\"Image Player\", imgPlayer)\n",
    "\n",
    "    if cv2.waitKey(1)==ord('q'):\n",
    "        break\n",
    "\n",
    "cv2.destroyAllWindows()\n",
    "cap = None"
   ]
  }
 ],
 "metadata": {
  "kernelspec": {
   "display_name": "Python 3",
   "language": "python",
   "name": "python3"
  },
  "language_info": {
   "codemirror_mode": {
    "name": "ipython",
    "version": 3
   },
   "file_extension": ".py",
   "mimetype": "text/x-python",
   "name": "python",
   "nbconvert_exporter": "python",
   "pygments_lexer": "ipython3",
   "version": "3.11.5"
  }
 },
 "nbformat": 4,
 "nbformat_minor": 2
}
